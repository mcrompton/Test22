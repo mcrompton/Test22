{
  "nbformat": 4,
  "nbformat_minor": 0,
  "metadata": {
    "colab": {
      "provenance": [],
      "include_colab_link": true
    },
    "kernelspec": {
      "name": "python3",
      "display_name": "Python 3"
    },
    "language_info": {
      "name": "python"
    }
  },
  "cells": [
    {
      "cell_type": "markdown",
      "metadata": {
        "id": "view-in-github",
        "colab_type": "text"
      },
      "source": [
        "<a href=\"https://colab.research.google.com/github/mcrompton/Test22/blob/main/SkillDev.ipynb\" target=\"_parent\"><img src=\"https://colab.research.google.com/assets/colab-badge.svg\" alt=\"Open In Colab\"/></a>"
      ]
    },
    {
      "cell_type": "code",
      "metadata": {
        "colab": {
          "base_uri": "https://localhost:8080/"
        },
        "id": "yYcOd8NMe8LX",
        "outputId": "056b8463-c1a3-4746-d838-d9438fed6f17"
      },
      "source": [
        "# import and download data\n",
        "from keras.datasets import mnist\n",
        "import numpy as np\n",
        "\n",
        "# download the data\n",
        " \n",
        "# Reshape the data from the shape it was downloaded in, normalize\n",
        " \n",
        "print('Train: X=%s, y=%s' % (trainX.shape, trainY.shape))\n",
        "print('Test: X=%s, y=%s' % (testX.shape, testY.shape))\n",
        " \n",
        "# import some stuff to do the learning\n",
        "from tensorflow.keras.models import Sequential \n",
        "from tensorflow.keras.layers import Dense, Input, Flatten\n",
        "from tensorflow.keras.losses import binary_crossentropy\n",
        "from tensorflow.keras.utils import to_categorical\n",
        "from tensorflow.keras.optimizers import Adam\n",
        " \n",
        "# reformat labels\n",
        "\n",
        " \n",
        "# deine number of classes \n",
        "#classNum = 10"
      ],
      "execution_count": null,
      "outputs": [
        {
          "output_type": "stream",
          "name": "stdout",
          "text": [
            "Downloading data from https://storage.googleapis.com/tensorflow/tf-keras-datasets/mnist.npz\n",
            "11490434/11490434 [==============================] - 0s 0us/step\n",
            "Train: X=(60000, 28, 28, 1), y=(60000,)\n",
            "Test: X=(10000, 28, 28, 1), y=(10000,)\n"
          ]
        }
      ]
    },
    {
      "cell_type": "code",
      "metadata": {
        "colab": {
          "base_uri": "https://localhost:8080/"
        },
        "id": "d5i3eYUUgYBE",
        "outputId": "f5923f51-ddf3-4d86-b935-e14f13474cf9"
      },
      "source": [
        "'''\n",
        "Example activation funcitons include 'softmax', 'relu', 'tanh', 'elu', 'selu' \n",
        "\n",
        "\n",
        "'''\n",
        "\n",
        "# make model\n",
        "\n",
        "# Loss (how do we measure how bad of a guess we make?)\n",
        "\n",
        "# Learning rate (how fast do we want to update parameters)\n",
        "\n",
        "# Optimizer (how do we choose which direction magnitude to move our parameters?)\n",
        "\n",
        "# Batch Size (how many samples do we use to chose a direction and magnitude?)\n",
        "\n",
        "# Epochs (how many times do we train over the entire dataset)\n",
        "\n",
        " \n",
        " \n",
        "model.compile(loss=loss,\n",
        "              optimizer=optimizer,\n",
        "              metrics=['accuracy'])\n",
        " \n",
        "# define some hyper parameters and train\n",
        "model.fit(trainX, trainY, batch_size=batch_size, epochs=epochs)\n",
        "score = model.evaluate(testX, testY)\n",
        "print(\"Test accuracy: \", score[1])"
      ],
      "execution_count": null,
      "outputs": [
        {
          "output_type": "stream",
          "name": "stdout",
          "text": [
            "Epoch 1/2\n",
            "15000/15000 [==============================] - 38s 2ms/step - loss: 0.0765 - accuracy: 0.8795\n",
            "Epoch 2/2\n",
            "15000/15000 [==============================] - 30s 2ms/step - loss: 0.0417 - accuracy: 0.9365\n",
            "313/313 [==============================] - 1s 2ms/step - loss: 0.0383 - accuracy: 0.9436\n",
            "Test accuracy:  0.9435999989509583\n"
          ]
        }
      ]
    }
  ]
}